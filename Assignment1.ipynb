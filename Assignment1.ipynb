{
  "nbformat": 4,
  "nbformat_minor": 0,
  "metadata": {
    "colab": {
      "provenance": [],
      "authorship_tag": "ABX9TyMKar7LSHI0M50oPnzER+uh",
      "include_colab_link": true
    },
    "kernelspec": {
      "name": "python3",
      "display_name": "Python 3"
    },
    "language_info": {
      "name": "python"
    }
  },
  "cells": [
    {
      "cell_type": "markdown",
      "metadata": {
        "id": "view-in-github",
        "colab_type": "text"
      },
      "source": [
        "<a href=\"https://colab.research.google.com/github/GarrettK99/CPSC-2100/blob/main/Assignment1.ipynb\" target=\"_parent\"><img src=\"https://colab.research.google.com/assets/colab-badge.svg\" alt=\"Open In Colab\"/></a>"
      ]
    },
    {
      "cell_type": "code",
      "source": [
        "s = 'azcbobobegghakl'\n",
        "count = 0\n",
        "for e in s:\n",
        "  if e in 'aeiou':\n",
        "    count += 1\n",
        "print('Number of Vowels: ', count)"
      ],
      "metadata": {
        "colab": {
          "base_uri": "https://localhost:8080/"
        },
        "id": "pZDA-6-jzVV1",
        "outputId": "24a393a0-6a1d-4bca-c342-e59a47d0300a"
      },
      "execution_count": 55,
      "outputs": [
        {
          "output_type": "stream",
          "name": "stdout",
          "text": [
            "Number of Vowels:  5\n"
          ]
        }
      ]
    },
    {
      "cell_type": "markdown",
      "source": [
        "Start of Assingment 1.2"
      ],
      "metadata": {
        "id": "mVoSQbHX0M4_"
      }
    },
    {
      "cell_type": "code",
      "source": [
        "s = 'azcbobobegghakl'\n",
        "count = 0\n",
        "for e in range(len(s)):\n",
        "  if s[e-1:e+2] == 'bob':\n",
        "    count += 1\n",
        "print('Number of times bob occurs is: ', count)"
      ],
      "metadata": {
        "colab": {
          "base_uri": "https://localhost:8080/"
        },
        "id": "h2hFGEx50PH2",
        "outputId": "92b656d2-3f1d-4e82-cf46-4ab454e938ae"
      },
      "execution_count": 54,
      "outputs": [
        {
          "output_type": "stream",
          "name": "stdout",
          "text": [
            "Number of times bob occurs is:  2\n"
          ]
        }
      ]
    }
  ]
}